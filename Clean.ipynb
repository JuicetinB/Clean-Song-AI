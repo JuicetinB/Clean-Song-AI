{
  "nbformat": 4,
  "nbformat_minor": 0,
  "metadata": {
    "colab": {
      "provenance": [],
      "gpuType": "T4",
      "authorship_tag": "ABX9TyM4MSzjvR+nNVKo1IH7k+kv",
      "include_colab_link": true
    },
    "kernelspec": {
      "name": "python3",
      "display_name": "Python 3"
    },
    "language_info": {
      "name": "python"
    },
    "accelerator": "GPU"
  },
  "cells": [
    {
      "cell_type": "markdown",
      "metadata": {
        "id": "view-in-github",
        "colab_type": "text"
      },
      "source": [
        "<a href=\"https://colab.research.google.com/github/JuicetinB/Clean-Song-AI/blob/main/Clean.ipynb\" target=\"_parent\"><img src=\"https://colab.research.google.com/assets/colab-badge.svg\" alt=\"Open In Colab\"/></a>"
      ]
    },
    {
      "cell_type": "markdown",
      "source": [
        "Install dependencies"
      ],
      "metadata": {
        "id": "kKw4RI1vgqek"
      }
    },
    {
      "cell_type": "code",
      "execution_count": null,
      "metadata": {
        "id": "TGiZ08ahetoQ"
      },
      "outputs": [],
      "source": [
        "%pip install yt-dlp\n",
        "%pip install git+https://github.com/JuicetinB/Clean-Song-AI"
      ]
    },
    {
      "cell_type": "markdown",
      "source": [
        "Add arguments after \"cleansong\""
      ],
      "metadata": {
        "id": "Duz9rZFrgpBe"
      }
    },
    {
      "cell_type": "code",
      "source": [
        "!python3 -m cleansong --link \"youtube-link\""
      ],
      "metadata": {
        "id": "B6u2kXL3h2ZX"
      },
      "execution_count": null,
      "outputs": []
    },
    {
      "cell_type": "markdown",
      "source": [
        "Check files for the output"
      ],
      "metadata": {
        "id": "Tc_nYcDF8-6S"
      }
    }
  ]
}