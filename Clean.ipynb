{
  "nbformat": 4,
  "nbformat_minor": 0,
  "metadata": {
    "colab": {
      "provenance": [],
      "gpuType": "T4",
      "authorship_tag": "ABX9TyPO+B5pqmFRSiIn1jjzgYYC",
      "include_colab_link": true
    },
    "kernelspec": {
      "name": "python3",
      "display_name": "Python 3"
    },
    "language_info": {
      "name": "python"
    }
  },
  "cells": [
    {
      "cell_type": "markdown",
      "metadata": {
        "id": "view-in-github",
        "colab_type": "text"
      },
      "source": [
        "<a href=\"https://colab.research.google.com/github/JuicetinB/Clean-Song-AI/blob/main/Clean.ipynb\" target=\"_parent\"><img src=\"https://colab.research.google.com/assets/colab-badge.svg\" alt=\"Open In Colab\"/></a>"
      ]
    },
    {
      "cell_type": "markdown",
      "source": [
        "Install dependencies"
      ],
      "metadata": {
        "id": "kKw4RI1vgqek"
      }
    },
    {
      "cell_type": "code",
      "execution_count": null,
      "metadata": {
        "id": "TGiZ08ahetoQ"
      },
      "outputs": [],
      "source": [
        "%pip install -U pip setuptools\n",
        "%pip install -U git+https://github.com/facebookresearch/demucs#egg=demucs\n",
        "%pip install git+https://github.com/openai/whisper.git\n",
        "%pip install yt-dlp\n",
        "%pip install pydub"
      ]
    },
    {
      "cell_type": "code",
      "source": [
        "%pip uninstall cleansong -y\n",
        "%pip install -U git+https://github.com/JuicetinB/Clean-Song-AI"
      ],
      "metadata": {
        "id": "SKu1snJspHP3"
      },
      "execution_count": null,
      "outputs": []
    },
    {
      "cell_type": "markdown",
      "source": [
        "Add arguments after \"cleansong\""
      ],
      "metadata": {
        "id": "Duz9rZFrgpBe"
      }
    },
    {
      "cell_type": "code",
      "source": [
        "!python3 -m cleansong --link \"youtube-link\""
      ],
      "metadata": {
        "id": "B6u2kXL3h2ZX"
      },
      "execution_count": null,
      "outputs": []
    }
  ]
}